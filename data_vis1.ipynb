{
 "cells": [
  {
   "cell_type": "markdown",
   "metadata": {},
   "source": [
    "# 1. Load data"
   ]
  },
  {
   "cell_type": "code",
   "execution_count": 3,
   "metadata": {},
   "outputs": [],
   "source": [
    "import pandas as pd\n",
    "all_birds = pd.read_csv('f:\\\\Python_projects\\\\state_of_birds_india\\\\data_vis1.csv')"
   ]
  },
  {
   "cell_type": "code",
   "execution_count": 4,
   "metadata": {},
   "outputs": [
    {
     "data": {
      "text/html": [
       "<div>\n",
       "<style scoped>\n",
       "    .dataframe tbody tr th:only-of-type {\n",
       "        vertical-align: middle;\n",
       "    }\n",
       "\n",
       "    .dataframe tbody tr th {\n",
       "        vertical-align: top;\n",
       "    }\n",
       "\n",
       "    .dataframe thead th {\n",
       "        text-align: right;\n",
       "    }\n",
       "</style>\n",
       "<table border=\"1\" class=\"dataframe\">\n",
       "  <thead>\n",
       "    <tr style=\"text-align: right;\">\n",
       "      <th></th>\n",
       "      <th>Unnamed: 0</th>\n",
       "      <th>English Name</th>\n",
       "      <th>Scientific Name</th>\n",
       "      <th>SoIB 2023 Priority Status</th>\n",
       "      <th>Order</th>\n",
       "      <th>Family</th>\n",
       "      <th>Endemicity</th>\n",
       "      <th>Habitat Specialization</th>\n",
       "      <th>IUCN Category</th>\n",
       "      <th>CITES Appendix</th>\n",
       "      <th>source</th>\n",
       "    </tr>\n",
       "  </thead>\n",
       "  <tbody>\n",
       "    <tr>\n",
       "      <th>0</th>\n",
       "      <td>0</td>\n",
       "      <td>Fulvous Whistling Duck</td>\n",
       "      <td>Dendrocygna bicolor</td>\n",
       "      <td>Low</td>\n",
       "      <td>Anseriformes</td>\n",
       "      <td>Anatidae (Ducks, Geese, and Waterfowl)</td>\n",
       "      <td>Non-endemic</td>\n",
       "      <td>Wetland</td>\n",
       "      <td>Least Concern</td>\n",
       "      <td>NaN</td>\n",
       "      <td>West_Bengal</td>\n",
       "    </tr>\n",
       "    <tr>\n",
       "      <th>1</th>\n",
       "      <td>1</td>\n",
       "      <td>Lesser Whistling Duck</td>\n",
       "      <td>Dendrocygna javanica</td>\n",
       "      <td>Low</td>\n",
       "      <td>Anseriformes</td>\n",
       "      <td>Anatidae (Ducks, Geese, and Waterfowl)</td>\n",
       "      <td>Non-endemic</td>\n",
       "      <td>Wetland</td>\n",
       "      <td>Least Concern</td>\n",
       "      <td>NaN</td>\n",
       "      <td>West_Bengal</td>\n",
       "    </tr>\n",
       "  </tbody>\n",
       "</table>\n",
       "</div>"
      ],
      "text/plain": [
       "   Unnamed: 0            English Name       Scientific Name  \\\n",
       "0           0  Fulvous Whistling Duck   Dendrocygna bicolor   \n",
       "1           1   Lesser Whistling Duck  Dendrocygna javanica   \n",
       "\n",
       "  SoIB 2023 Priority Status         Order  \\\n",
       "0                       Low  Anseriformes   \n",
       "1                       Low  Anseriformes   \n",
       "\n",
       "                                   Family   Endemicity Habitat Specialization  \\\n",
       "0  Anatidae (Ducks, Geese, and Waterfowl)  Non-endemic                Wetland   \n",
       "1  Anatidae (Ducks, Geese, and Waterfowl)  Non-endemic                Wetland   \n",
       "\n",
       "   IUCN Category CITES Appendix       source  \n",
       "0  Least Concern            NaN  West_Bengal  \n",
       "1  Least Concern            NaN  West_Bengal  "
      ]
     },
     "execution_count": 4,
     "metadata": {},
     "output_type": "execute_result"
    }
   ],
   "source": [
    "all_birds.head(2)"
   ]
  },
  {
   "cell_type": "markdown",
   "metadata": {},
   "source": [
    "# 2. Plot"
   ]
  },
  {
   "cell_type": "code",
   "execution_count": 1,
   "metadata": {},
   "outputs": [],
   "source": [
    "import plotly.express as px"
   ]
  },
  {
   "cell_type": "code",
   "execution_count": null,
   "metadata": {},
   "outputs": [],
   "source": [
    "def top_n(my_df, col, type, n):\n",
    "    \n",
    "    #my_df: this is a pandas dataframe\n",
    "    #col: \n",
    "    \n",
    "    #from dataframe my_df, get top n most watched names for 'type' in column 'col'. 'type' is 'movie' or 'tv show'\n",
    "    \n",
    "    #Get dataframe of just type\n",
    "    my_type = my_df[my_df[col]==type]\n",
    "    \n",
    "    #Group shows by movie name, sort in descending order and convert to dataframe\n",
    "    my_type = my_type.groupby('name').sum().sort_values(by='duration', ascending= False).reset_index()\n",
    "    \n",
    "    #Keep only relevant columns\n",
    "    my_type = my_type[['name', 'duration']]\n",
    "    \n",
    "    #Get a dataframe of just the first n most watched shows\n",
    "    top_n_type = my_type.iloc[0:n,].sort_values(by='duration', ascending=True)\n",
    "    #somehow, round has to be applied again\n",
    "    top_n_type ['duration']= round(top_n_type['duration'],2)\n",
    "    \n",
    "    fig_type = px.bar(top_n_type,  x ='duration', y= 'name' ,\n",
    "                        title= 'My top '+str(n)+' '+ type.capitalize()+'s',\n",
    "                        color = 'duration' , color_continuous_scale=['red','black'], text='duration')\n",
    "    #Axis titles\n",
    "    fig_type.update_layout(xaxis_title=\"No. of hours watched\", yaxis_title=type.capitalize()+'s')\n",
    "    #Remove colorbar\n",
    "    fig_type.update_coloraxes(showscale=False)\n",
    "    # Set the height of the figure to scale\n",
    "    if n>=10: fig_type.update_layout(height=40*n)       \n",
    "    \n",
    "    \n",
    "    fig_type.show()"
   ]
  }
 ],
 "metadata": {
  "kernelspec": {
   "display_name": "Python 3",
   "language": "python",
   "name": "python3"
  },
  "language_info": {
   "codemirror_mode": {
    "name": "ipython",
    "version": 3
   },
   "file_extension": ".py",
   "mimetype": "text/x-python",
   "name": "python",
   "nbconvert_exporter": "python",
   "pygments_lexer": "ipython3",
   "version": "3.11.5"
  }
 },
 "nbformat": 4,
 "nbformat_minor": 2
}
