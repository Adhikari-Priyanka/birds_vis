{
 "cells": [
  {
   "cell_type": "markdown",
   "metadata": {},
   "source": [
    "# 1. Load data"
   ]
  },
  {
   "cell_type": "code",
   "execution_count": 35,
   "metadata": {},
   "outputs": [],
   "source": [
    "import pandas as pd\n",
    "import plotly.express as px\n",
    "import geopandas as gpd\n",
    "\n",
    "all_birds = pd.read_csv('F:\\\\Python_projects\\\\state_of_birds_india\\\\birds_vis\\\\all_birds.csv')"
   ]
  },
  {
   "cell_type": "markdown",
   "metadata": {},
   "source": [
    "#### Load India shapefile"
   ]
  },
  {
   "cell_type": "code",
   "execution_count": 22,
   "metadata": {},
   "outputs": [],
   "source": [
    "ind_adm1 = gpd.read_file('F:\\\\Python_projects\\\\state_of_birds_india\\\\birds_vis\\\\IND_adm1.gpkg')"
   ]
  },
  {
   "cell_type": "code",
   "execution_count": 32,
   "metadata": {},
   "outputs": [
    {
     "name": "stdout",
     "output_type": "stream",
     "text": [
      "{'Uttaranchal', 'Haryana', 'Orissa', 'Tamil Nadu', 'Gujarat', 'Meghalaya', 'Chandigarh', 'Punjab', 'Uttar Pradesh', 'Delhi', 'Maharashtra', 'Chhattisgarh', 'Mizoram', 'Rajasthan', 'Dadra and Nagar Haveli', 'Lakshadweep', 'Himachal Pradesh', 'Jammu and Kashmir', 'West Bengal', 'Goa', 'Nagaland', 'Assam', 'Tripura', 'Sikkim', 'Andaman and Nicobar', 'Puducherry', 'Jharkhand', 'Telangana', 'Kerala', 'Madhya Pradesh', 'Karnataka', 'Arunachal Pradesh', 'Daman and Diu', 'Andhra Pradesh', 'Bihar', 'Manipur'}\n",
      "{'Haryana', 'Dadra_and_Nagar_Haveli', 'Bihar', 'Uttar_Pradesh', 'Gujarat', 'Jammu_and_Kashmir', 'Meghalaya', 'Chandigarh', 'Punjab', 'Himachal_Pradesh', 'Uttarakhand', 'Delhi', 'Maharashtra', 'Tamil_Nadu', 'Chhattisgarh', 'Arunachal_Pradesh', 'Mizoram', 'Ladakh', 'Rajasthan', 'Lakshadweep', 'Odisha', 'Goa', 'Nagaland', 'Assam', 'Tripura', 'Sikkim', 'Puducherry', 'Manipur', 'Jharkhand', 'Telangana', 'Kerala', 'Daman_and_Diu', 'West_Bengal', 'Andhra_Pradesh', 'Karnataka', 'Andaman_and_Nicobar_Islands', 'Madhya_Pradesh'}\n"
     ]
    }
   ],
   "source": [
    "print(set(ind_adm1['NAME_1']))\n",
    "print(set(all_birds['source']))"
   ]
  },
  {
   "cell_type": "code",
   "execution_count": 34,
   "metadata": {},
   "outputs": [
    {
     "name": "stdout",
     "output_type": "stream",
     "text": [
      "Elements only in ind_adm1 (in alphabetical order): ['Andaman and Nicobar', 'Andhra Pradesh', 'Arunachal Pradesh', 'Dadra and Nagar Haveli', 'Daman and Diu', 'Himachal Pradesh', 'Jammu and Kashmir', 'Madhya Pradesh', 'Orissa', 'Tamil Nadu', 'Uttar Pradesh', 'Uttaranchal', 'West Bengal']\n",
      "Elements only in all_birds (in alphabetical order): ['Andaman_and_Nicobar_Islands', 'Andhra_Pradesh', 'Arunachal_Pradesh', 'Dadra_and_Nagar_Haveli', 'Daman_and_Diu', 'Himachal_Pradesh', 'Jammu_and_Kashmir', 'Ladakh', 'Madhya_Pradesh', 'Odisha', 'Tamil_Nadu', 'Uttar_Pradesh', 'Uttarakhand', 'West_Bengal']\n"
     ]
    }
   ],
   "source": [
    "# Assuming ind_adm1['NAME_1'] and all_birds['source'] are sets or lists\n",
    "elements_only_in_ind_adm1 = sorted(set(ind_adm1['NAME_1']).difference(set(all_birds['source'])))\n",
    "elements_only_in_all_birds = sorted(set(all_birds['source']).difference(set(ind_adm1['NAME_1'])))\n",
    "\n",
    "# Alternatively, you can use the - operator for sets\n",
    "# elements_only_in_ind_adm1 = sorted(set(ind_adm1['NAME_1']) - set(all_birds['source']))\n",
    "# elements_only_in_all_birds = sorted(set(all_birds['source']) - set(ind_adm1['NAME_1']))\n",
    "\n",
    "print(\"Elements only in ind_adm1 (in alphabetical order):\", elements_only_in_ind_adm1)\n",
    "print(\"Elements only in all_birds (in alphabetical order):\", elements_only_in_all_birds)\n",
    "\n"
   ]
  },
  {
   "cell_type": "code",
   "execution_count": 26,
   "metadata": {},
   "outputs": [
    {
     "name": "stdout",
     "output_type": "stream",
     "text": [
      "no of states in ind_adm1=  36\n",
      "no of states in all_birds =  37\n"
     ]
    }
   ],
   "source": [
    "print('no of states in ind_adm1= ',len(set(ind_adm1['NAME_1'])))\n",
    "print('no of states in all_birds = ', len(set(all_birds['source'])))"
   ]
  },
  {
   "cell_type": "markdown",
   "metadata": {},
   "source": [
    "# 2. Plot no. of species found in each state or union territory"
   ]
  },
  {
   "cell_type": "code",
   "execution_count": 36,
   "metadata": {},
   "outputs": [
    {
     "data": {
      "application/vnd.plotly.v1+json": {
       "config": {
        "plotlyServerURL": "https://plot.ly"
       },
       "data": [
        {
         "alignmentgroup": "True",
         "hovertemplate": "Unnamed: 0=%{marker.color}<br>source=%{y}<extra></extra>",
         "legendgroup": "",
         "marker": {
          "color": [
           58,
           184,
           198,
           220,
           235,
           250,
           299,
           301,
           308,
           313,
           337,
           338,
           363,
           367,
           370,
           385,
           385,
           392,
           392,
           400,
           411,
           412,
           425,
           431,
           435,
           447,
           452,
           452,
           458,
           459,
           507,
           565,
           594,
           603,
           693,
           693
          ],
          "coloraxis": "coloraxis",
          "pattern": {
           "shape": ""
          }
         },
         "name": "",
         "offsetgroup": "",
         "orientation": "h",
         "showlegend": false,
         "text": [
          58,
          184,
          198,
          220,
          235,
          250,
          299,
          301,
          308,
          313,
          337,
          338,
          363,
          367,
          370,
          385,
          385,
          392,
          392,
          400,
          411,
          412,
          425,
          431,
          435,
          447,
          452,
          452,
          458,
          459,
          507,
          565,
          594,
          603,
          693,
          693
         ],
         "textposition": "auto",
         "type": "bar",
         "x": [
          58,
          184,
          198,
          220,
          235,
          250,
          299,
          301,
          308,
          313,
          337,
          338,
          363,
          367,
          370,
          385,
          385,
          392,
          392,
          400,
          411,
          412,
          425,
          431,
          435,
          447,
          452,
          452,
          458,
          459,
          507,
          565,
          594,
          603,
          693,
          693
         ],
         "xaxis": "x",
         "y": [
          "Lakshadweep",
          "Dadra and Nagar Haveli",
          "Andaman and Nicobar Islands",
          "Daman and Diu",
          "Puducherry",
          "Chandigarh",
          "Jharkhand",
          "Tripura",
          "Mizoram",
          "Bihar",
          "Delhi",
          "Nagaland",
          "Chhattisgarh",
          "Punjab",
          "Meghalaya",
          "Odisha",
          "Telangana",
          "Madhya Pradesh",
          "Rajasthan",
          "Goa",
          "Andhra Pradesh",
          "Gujarat",
          "Kerala",
          "Manipur",
          "Tamil Nadu",
          "Haryana",
          "Karnataka",
          "Sikkim",
          "Uttar Pradesh",
          "Maharashtra",
          "Himachal Pradesh",
          "Assam",
          "Arunachal Pradesh",
          "Uttarakhand",
          "Jammu and Kashmir",
          "West Bengal"
         ],
         "yaxis": "y"
        }
       ],
       "layout": {
        "barmode": "relative",
        "coloraxis": {
         "colorbar": {
          "title": {
           "text": "Unnamed: 0"
          }
         },
         "colorscale": [
          [
           0,
           "red"
          ],
          [
           1,
           "black"
          ]
         ],
         "showscale": false
        },
        "height": 1000,
        "legend": {
         "tracegroupgap": 0
        },
        "template": {
         "data": {
          "bar": [
           {
            "error_x": {
             "color": "#2a3f5f"
            },
            "error_y": {
             "color": "#2a3f5f"
            },
            "marker": {
             "line": {
              "color": "#E5ECF6",
              "width": 0.5
             },
             "pattern": {
              "fillmode": "overlay",
              "size": 10,
              "solidity": 0.2
             }
            },
            "type": "bar"
           }
          ],
          "barpolar": [
           {
            "marker": {
             "line": {
              "color": "#E5ECF6",
              "width": 0.5
             },
             "pattern": {
              "fillmode": "overlay",
              "size": 10,
              "solidity": 0.2
             }
            },
            "type": "barpolar"
           }
          ],
          "carpet": [
           {
            "aaxis": {
             "endlinecolor": "#2a3f5f",
             "gridcolor": "white",
             "linecolor": "white",
             "minorgridcolor": "white",
             "startlinecolor": "#2a3f5f"
            },
            "baxis": {
             "endlinecolor": "#2a3f5f",
             "gridcolor": "white",
             "linecolor": "white",
             "minorgridcolor": "white",
             "startlinecolor": "#2a3f5f"
            },
            "type": "carpet"
           }
          ],
          "choropleth": [
           {
            "colorbar": {
             "outlinewidth": 0,
             "ticks": ""
            },
            "type": "choropleth"
           }
          ],
          "contour": [
           {
            "colorbar": {
             "outlinewidth": 0,
             "ticks": ""
            },
            "colorscale": [
             [
              0,
              "#0d0887"
             ],
             [
              0.1111111111111111,
              "#46039f"
             ],
             [
              0.2222222222222222,
              "#7201a8"
             ],
             [
              0.3333333333333333,
              "#9c179e"
             ],
             [
              0.4444444444444444,
              "#bd3786"
             ],
             [
              0.5555555555555556,
              "#d8576b"
             ],
             [
              0.6666666666666666,
              "#ed7953"
             ],
             [
              0.7777777777777778,
              "#fb9f3a"
             ],
             [
              0.8888888888888888,
              "#fdca26"
             ],
             [
              1,
              "#f0f921"
             ]
            ],
            "type": "contour"
           }
          ],
          "contourcarpet": [
           {
            "colorbar": {
             "outlinewidth": 0,
             "ticks": ""
            },
            "type": "contourcarpet"
           }
          ],
          "heatmap": [
           {
            "colorbar": {
             "outlinewidth": 0,
             "ticks": ""
            },
            "colorscale": [
             [
              0,
              "#0d0887"
             ],
             [
              0.1111111111111111,
              "#46039f"
             ],
             [
              0.2222222222222222,
              "#7201a8"
             ],
             [
              0.3333333333333333,
              "#9c179e"
             ],
             [
              0.4444444444444444,
              "#bd3786"
             ],
             [
              0.5555555555555556,
              "#d8576b"
             ],
             [
              0.6666666666666666,
              "#ed7953"
             ],
             [
              0.7777777777777778,
              "#fb9f3a"
             ],
             [
              0.8888888888888888,
              "#fdca26"
             ],
             [
              1,
              "#f0f921"
             ]
            ],
            "type": "heatmap"
           }
          ],
          "heatmapgl": [
           {
            "colorbar": {
             "outlinewidth": 0,
             "ticks": ""
            },
            "colorscale": [
             [
              0,
              "#0d0887"
             ],
             [
              0.1111111111111111,
              "#46039f"
             ],
             [
              0.2222222222222222,
              "#7201a8"
             ],
             [
              0.3333333333333333,
              "#9c179e"
             ],
             [
              0.4444444444444444,
              "#bd3786"
             ],
             [
              0.5555555555555556,
              "#d8576b"
             ],
             [
              0.6666666666666666,
              "#ed7953"
             ],
             [
              0.7777777777777778,
              "#fb9f3a"
             ],
             [
              0.8888888888888888,
              "#fdca26"
             ],
             [
              1,
              "#f0f921"
             ]
            ],
            "type": "heatmapgl"
           }
          ],
          "histogram": [
           {
            "marker": {
             "pattern": {
              "fillmode": "overlay",
              "size": 10,
              "solidity": 0.2
             }
            },
            "type": "histogram"
           }
          ],
          "histogram2d": [
           {
            "colorbar": {
             "outlinewidth": 0,
             "ticks": ""
            },
            "colorscale": [
             [
              0,
              "#0d0887"
             ],
             [
              0.1111111111111111,
              "#46039f"
             ],
             [
              0.2222222222222222,
              "#7201a8"
             ],
             [
              0.3333333333333333,
              "#9c179e"
             ],
             [
              0.4444444444444444,
              "#bd3786"
             ],
             [
              0.5555555555555556,
              "#d8576b"
             ],
             [
              0.6666666666666666,
              "#ed7953"
             ],
             [
              0.7777777777777778,
              "#fb9f3a"
             ],
             [
              0.8888888888888888,
              "#fdca26"
             ],
             [
              1,
              "#f0f921"
             ]
            ],
            "type": "histogram2d"
           }
          ],
          "histogram2dcontour": [
           {
            "colorbar": {
             "outlinewidth": 0,
             "ticks": ""
            },
            "colorscale": [
             [
              0,
              "#0d0887"
             ],
             [
              0.1111111111111111,
              "#46039f"
             ],
             [
              0.2222222222222222,
              "#7201a8"
             ],
             [
              0.3333333333333333,
              "#9c179e"
             ],
             [
              0.4444444444444444,
              "#bd3786"
             ],
             [
              0.5555555555555556,
              "#d8576b"
             ],
             [
              0.6666666666666666,
              "#ed7953"
             ],
             [
              0.7777777777777778,
              "#fb9f3a"
             ],
             [
              0.8888888888888888,
              "#fdca26"
             ],
             [
              1,
              "#f0f921"
             ]
            ],
            "type": "histogram2dcontour"
           }
          ],
          "mesh3d": [
           {
            "colorbar": {
             "outlinewidth": 0,
             "ticks": ""
            },
            "type": "mesh3d"
           }
          ],
          "parcoords": [
           {
            "line": {
             "colorbar": {
              "outlinewidth": 0,
              "ticks": ""
             }
            },
            "type": "parcoords"
           }
          ],
          "pie": [
           {
            "automargin": true,
            "type": "pie"
           }
          ],
          "scatter": [
           {
            "fillpattern": {
             "fillmode": "overlay",
             "size": 10,
             "solidity": 0.2
            },
            "type": "scatter"
           }
          ],
          "scatter3d": [
           {
            "line": {
             "colorbar": {
              "outlinewidth": 0,
              "ticks": ""
             }
            },
            "marker": {
             "colorbar": {
              "outlinewidth": 0,
              "ticks": ""
             }
            },
            "type": "scatter3d"
           }
          ],
          "scattercarpet": [
           {
            "marker": {
             "colorbar": {
              "outlinewidth": 0,
              "ticks": ""
             }
            },
            "type": "scattercarpet"
           }
          ],
          "scattergeo": [
           {
            "marker": {
             "colorbar": {
              "outlinewidth": 0,
              "ticks": ""
             }
            },
            "type": "scattergeo"
           }
          ],
          "scattergl": [
           {
            "marker": {
             "colorbar": {
              "outlinewidth": 0,
              "ticks": ""
             }
            },
            "type": "scattergl"
           }
          ],
          "scattermapbox": [
           {
            "marker": {
             "colorbar": {
              "outlinewidth": 0,
              "ticks": ""
             }
            },
            "type": "scattermapbox"
           }
          ],
          "scatterpolar": [
           {
            "marker": {
             "colorbar": {
              "outlinewidth": 0,
              "ticks": ""
             }
            },
            "type": "scatterpolar"
           }
          ],
          "scatterpolargl": [
           {
            "marker": {
             "colorbar": {
              "outlinewidth": 0,
              "ticks": ""
             }
            },
            "type": "scatterpolargl"
           }
          ],
          "scatterternary": [
           {
            "marker": {
             "colorbar": {
              "outlinewidth": 0,
              "ticks": ""
             }
            },
            "type": "scatterternary"
           }
          ],
          "surface": [
           {
            "colorbar": {
             "outlinewidth": 0,
             "ticks": ""
            },
            "colorscale": [
             [
              0,
              "#0d0887"
             ],
             [
              0.1111111111111111,
              "#46039f"
             ],
             [
              0.2222222222222222,
              "#7201a8"
             ],
             [
              0.3333333333333333,
              "#9c179e"
             ],
             [
              0.4444444444444444,
              "#bd3786"
             ],
             [
              0.5555555555555556,
              "#d8576b"
             ],
             [
              0.6666666666666666,
              "#ed7953"
             ],
             [
              0.7777777777777778,
              "#fb9f3a"
             ],
             [
              0.8888888888888888,
              "#fdca26"
             ],
             [
              1,
              "#f0f921"
             ]
            ],
            "type": "surface"
           }
          ],
          "table": [
           {
            "cells": {
             "fill": {
              "color": "#EBF0F8"
             },
             "line": {
              "color": "white"
             }
            },
            "header": {
             "fill": {
              "color": "#C8D4E3"
             },
             "line": {
              "color": "white"
             }
            },
            "type": "table"
           }
          ]
         },
         "layout": {
          "annotationdefaults": {
           "arrowcolor": "#2a3f5f",
           "arrowhead": 0,
           "arrowwidth": 1
          },
          "autotypenumbers": "strict",
          "coloraxis": {
           "colorbar": {
            "outlinewidth": 0,
            "ticks": ""
           }
          },
          "colorscale": {
           "diverging": [
            [
             0,
             "#8e0152"
            ],
            [
             0.1,
             "#c51b7d"
            ],
            [
             0.2,
             "#de77ae"
            ],
            [
             0.3,
             "#f1b6da"
            ],
            [
             0.4,
             "#fde0ef"
            ],
            [
             0.5,
             "#f7f7f7"
            ],
            [
             0.6,
             "#e6f5d0"
            ],
            [
             0.7,
             "#b8e186"
            ],
            [
             0.8,
             "#7fbc41"
            ],
            [
             0.9,
             "#4d9221"
            ],
            [
             1,
             "#276419"
            ]
           ],
           "sequential": [
            [
             0,
             "#0d0887"
            ],
            [
             0.1111111111111111,
             "#46039f"
            ],
            [
             0.2222222222222222,
             "#7201a8"
            ],
            [
             0.3333333333333333,
             "#9c179e"
            ],
            [
             0.4444444444444444,
             "#bd3786"
            ],
            [
             0.5555555555555556,
             "#d8576b"
            ],
            [
             0.6666666666666666,
             "#ed7953"
            ],
            [
             0.7777777777777778,
             "#fb9f3a"
            ],
            [
             0.8888888888888888,
             "#fdca26"
            ],
            [
             1,
             "#f0f921"
            ]
           ],
           "sequentialminus": [
            [
             0,
             "#0d0887"
            ],
            [
             0.1111111111111111,
             "#46039f"
            ],
            [
             0.2222222222222222,
             "#7201a8"
            ],
            [
             0.3333333333333333,
             "#9c179e"
            ],
            [
             0.4444444444444444,
             "#bd3786"
            ],
            [
             0.5555555555555556,
             "#d8576b"
            ],
            [
             0.6666666666666666,
             "#ed7953"
            ],
            [
             0.7777777777777778,
             "#fb9f3a"
            ],
            [
             0.8888888888888888,
             "#fdca26"
            ],
            [
             1,
             "#f0f921"
            ]
           ]
          },
          "colorway": [
           "#636efa",
           "#EF553B",
           "#00cc96",
           "#ab63fa",
           "#FFA15A",
           "#19d3f3",
           "#FF6692",
           "#B6E880",
           "#FF97FF",
           "#FECB52"
          ],
          "font": {
           "color": "#2a3f5f"
          },
          "geo": {
           "bgcolor": "white",
           "lakecolor": "white",
           "landcolor": "#E5ECF6",
           "showlakes": true,
           "showland": true,
           "subunitcolor": "white"
          },
          "hoverlabel": {
           "align": "left"
          },
          "hovermode": "closest",
          "mapbox": {
           "style": "light"
          },
          "paper_bgcolor": "white",
          "plot_bgcolor": "#E5ECF6",
          "polar": {
           "angularaxis": {
            "gridcolor": "white",
            "linecolor": "white",
            "ticks": ""
           },
           "bgcolor": "#E5ECF6",
           "radialaxis": {
            "gridcolor": "white",
            "linecolor": "white",
            "ticks": ""
           }
          },
          "scene": {
           "xaxis": {
            "backgroundcolor": "#E5ECF6",
            "gridcolor": "white",
            "gridwidth": 2,
            "linecolor": "white",
            "showbackground": true,
            "ticks": "",
            "zerolinecolor": "white"
           },
           "yaxis": {
            "backgroundcolor": "#E5ECF6",
            "gridcolor": "white",
            "gridwidth": 2,
            "linecolor": "white",
            "showbackground": true,
            "ticks": "",
            "zerolinecolor": "white"
           },
           "zaxis": {
            "backgroundcolor": "#E5ECF6",
            "gridcolor": "white",
            "gridwidth": 2,
            "linecolor": "white",
            "showbackground": true,
            "ticks": "",
            "zerolinecolor": "white"
           }
          },
          "shapedefaults": {
           "line": {
            "color": "#2a3f5f"
           }
          },
          "ternary": {
           "aaxis": {
            "gridcolor": "white",
            "linecolor": "white",
            "ticks": ""
           },
           "baxis": {
            "gridcolor": "white",
            "linecolor": "white",
            "ticks": ""
           },
           "bgcolor": "#E5ECF6",
           "caxis": {
            "gridcolor": "white",
            "linecolor": "white",
            "ticks": ""
           }
          },
          "title": {
           "x": 0.05
          },
          "xaxis": {
           "automargin": true,
           "gridcolor": "white",
           "linecolor": "white",
           "ticks": "",
           "title": {
            "standoff": 15
           },
           "zerolinecolor": "white",
           "zerolinewidth": 2
          },
          "yaxis": {
           "automargin": true,
           "gridcolor": "white",
           "linecolor": "white",
           "ticks": "",
           "title": {
            "standoff": 15
           },
           "zerolinecolor": "white",
           "zerolinewidth": 2
          }
         }
        },
        "title": {
         "text": "State-wise bird count"
        },
        "xaxis": {
         "anchor": "y",
         "domain": [
          0,
          1
         ],
         "title": {
          "text": "Species count"
         }
        },
        "yaxis": {
         "anchor": "x",
         "domain": [
          0,
          1
         ],
         "title": {
          "text": "State"
         }
        }
       }
      }
     },
     "metadata": {},
     "output_type": "display_data"
    }
   ],
   "source": [
    "all_birds_vis = all_birds.groupby(by='source').count().reset_index().sort_values(by='Unnamed: 0', ascending=True)\n",
    "\n",
    "fig_type = px.bar(all_birds_vis,  x ='Unnamed: 0', y= 'source',\n",
    "                title= 'State-wise bird count',\n",
    "                color = 'Unnamed: 0' , color_continuous_scale=['red','black'], text='Unnamed: 0')\n",
    "#Axis titles\n",
    "fig_type.update_layout(xaxis_title=\"Species count\", yaxis_title='State')\n",
    "#Remove colorbar\n",
    "fig_type.update_coloraxes(showscale=False)\n",
    "# Set the height of the figure to scale\n",
    "fig_type.update_layout(height=1000)\n",
    "fig_type.show()"
   ]
  },
  {
   "cell_type": "markdown",
   "metadata": {},
   "source": [
    "prev Plot function"
   ]
  },
  {
   "cell_type": "code",
   "execution_count": null,
   "metadata": {},
   "outputs": [],
   "source": [
    "def top_n(my_df, col, type, n):\n",
    "    \n",
    "    #my_df: this is a pandas dataframe\n",
    "    #col: \n",
    "    #type: \n",
    "    \n",
    "    \n",
    "    #from dataframe my_df, get top n most watched names for 'type' in column 'col'. 'type' is 'movie' or 'tv show'\n",
    "    \n",
    "    #Get dataframe of just type\n",
    "    my_type = my_df[my_df[col]==type]\n",
    "    \n",
    "    #Group shows by movie name, sort in descending order and convert to dataframe\n",
    "    my_type = my_type.groupby('name').sum().sort_values(by='duration', ascending= False).reset_index()\n",
    "    \n",
    "    #Keep only relevant columns\n",
    "    my_type = my_type[['name', 'duration']]\n",
    "    \n",
    "    #Get a dataframe of just the first n most watched shows\n",
    "    top_n_type = my_type.iloc[0:n,].sort_values(by='duration', ascending=True)\n",
    "    #somehow, round has to be applied again\n",
    "    top_n_type ['duration']= round(top_n_type['duration'],2)\n",
    "    \n",
    "    fig_type = px.bar(top_n_type,  x ='duration', y= 'name' ,\n",
    "                        title= 'My top '+str(n)+' '+ type.capitalize()+'s',\n",
    "                        color = 'duration' , color_continuous_scale=['red','black'], text='duration')\n",
    "    #Axis titles\n",
    "    fig_type.update_layout(xaxis_title=\"No. of hours watched\", yaxis_title=type.capitalize()+'s')\n",
    "    #Remove colorbar\n",
    "    fig_type.update_coloraxes(showscale=False)\n",
    "    # Set the height of the figure to scale\n",
    "    if n>=10: fig_type.update_layout(height=40*n)       \n",
    "    \n",
    "    \n",
    "    fig_type.show()"
   ]
  }
 ],
 "metadata": {
  "kernelspec": {
   "display_name": "Python 3",
   "language": "python",
   "name": "python3"
  },
  "language_info": {
   "codemirror_mode": {
    "name": "ipython",
    "version": 3
   },
   "file_extension": ".py",
   "mimetype": "text/x-python",
   "name": "python",
   "nbconvert_exporter": "python",
   "pygments_lexer": "ipython3",
   "version": "3.11.5"
  }
 },
 "nbformat": 4,
 "nbformat_minor": 2
}
