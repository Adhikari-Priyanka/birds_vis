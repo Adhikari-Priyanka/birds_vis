{
 "cells": [
  {
   "cell_type": "markdown",
   "metadata": {},
   "source": [
    "# 1. Load data"
   ]
  },
  {
   "cell_type": "code",
   "execution_count": 2,
   "metadata": {},
   "outputs": [],
   "source": [
    "import pandas as pd\n",
    "import plotly.express as px\n",
    "import geopandas as gpd\n",
    "\n",
    "all_birds = pd.read_csv('F:\\\\Python_projects\\\\state_of_birds_india\\\\birds_vis\\\\data_vis.csv')"
   ]
  },
  {
   "cell_type": "markdown",
   "metadata": {},
   "source": [
    "#### Load India shapefile"
   ]
  },
  {
   "cell_type": "code",
   "execution_count": 22,
   "metadata": {},
   "outputs": [],
   "source": [
    "ind_adm1 = gpd.read_file('F:\\\\Python_projects\\\\state_of_birds_india\\\\birds_vis\\\\IND_adm1.gpkg')"
   ]
  },
  {
   "cell_type": "code",
   "execution_count": 32,
   "metadata": {},
   "outputs": [
    {
     "name": "stdout",
     "output_type": "stream",
     "text": [
      "{'Uttaranchal', 'Haryana', 'Orissa', 'Tamil Nadu', 'Gujarat', 'Meghalaya', 'Chandigarh', 'Punjab', 'Uttar Pradesh', 'Delhi', 'Maharashtra', 'Chhattisgarh', 'Mizoram', 'Rajasthan', 'Dadra and Nagar Haveli', 'Lakshadweep', 'Himachal Pradesh', 'Jammu and Kashmir', 'West Bengal', 'Goa', 'Nagaland', 'Assam', 'Tripura', 'Sikkim', 'Andaman and Nicobar', 'Puducherry', 'Jharkhand', 'Telangana', 'Kerala', 'Madhya Pradesh', 'Karnataka', 'Arunachal Pradesh', 'Daman and Diu', 'Andhra Pradesh', 'Bihar', 'Manipur'}\n",
      "{'Haryana', 'Dadra_and_Nagar_Haveli', 'Bihar', 'Uttar_Pradesh', 'Gujarat', 'Jammu_and_Kashmir', 'Meghalaya', 'Chandigarh', 'Punjab', 'Himachal_Pradesh', 'Uttarakhand', 'Delhi', 'Maharashtra', 'Tamil_Nadu', 'Chhattisgarh', 'Arunachal_Pradesh', 'Mizoram', 'Ladakh', 'Rajasthan', 'Lakshadweep', 'Odisha', 'Goa', 'Nagaland', 'Assam', 'Tripura', 'Sikkim', 'Puducherry', 'Manipur', 'Jharkhand', 'Telangana', 'Kerala', 'Daman_and_Diu', 'West_Bengal', 'Andhra_Pradesh', 'Karnataka', 'Andaman_and_Nicobar_Islands', 'Madhya_Pradesh'}\n"
     ]
    }
   ],
   "source": [
    "print(set(ind_adm1['NAME_1']))\n",
    "print(set(all_birds['source']))"
   ]
  },
  {
   "cell_type": "code",
   "execution_count": 34,
   "metadata": {},
   "outputs": [
    {
     "name": "stdout",
     "output_type": "stream",
     "text": [
      "Elements only in ind_adm1 (in alphabetical order): ['Andaman and Nicobar', 'Andhra Pradesh', 'Arunachal Pradesh', 'Dadra and Nagar Haveli', 'Daman and Diu', 'Himachal Pradesh', 'Jammu and Kashmir', 'Madhya Pradesh', 'Orissa', 'Tamil Nadu', 'Uttar Pradesh', 'Uttaranchal', 'West Bengal']\n",
      "Elements only in all_birds (in alphabetical order): ['Andaman_and_Nicobar_Islands', 'Andhra_Pradesh', 'Arunachal_Pradesh', 'Dadra_and_Nagar_Haveli', 'Daman_and_Diu', 'Himachal_Pradesh', 'Jammu_and_Kashmir', 'Ladakh', 'Madhya_Pradesh', 'Odisha', 'Tamil_Nadu', 'Uttar_Pradesh', 'Uttarakhand', 'West_Bengal']\n"
     ]
    }
   ],
   "source": [
    "# Assuming ind_adm1['NAME_1'] and all_birds['source'] are sets or lists\n",
    "elements_only_in_ind_adm1 = sorted(set(ind_adm1['NAME_1']).difference(set(all_birds['source'])))\n",
    "elements_only_in_all_birds = sorted(set(all_birds['source']).difference(set(ind_adm1['NAME_1'])))\n",
    "\n",
    "# Alternatively, you can use the - operator for sets\n",
    "# elements_only_in_ind_adm1 = sorted(set(ind_adm1['NAME_1']) - set(all_birds['source']))\n",
    "# elements_only_in_all_birds = sorted(set(all_birds['source']) - set(ind_adm1['NAME_1']))\n",
    "\n",
    "print(\"Elements only in ind_adm1 (in alphabetical order):\", elements_only_in_ind_adm1)\n",
    "print(\"Elements only in all_birds (in alphabetical order):\", elements_only_in_all_birds)\n",
    "\n"
   ]
  },
  {
   "cell_type": "code",
   "execution_count": 26,
   "metadata": {},
   "outputs": [
    {
     "name": "stdout",
     "output_type": "stream",
     "text": [
      "no of states in ind_adm1=  36\n",
      "no of states in all_birds =  37\n"
     ]
    }
   ],
   "source": [
    "print('no of states in ind_adm1= ',len(set(ind_adm1['NAME_1'])))\n",
    "print('no of states in all_birds = ', len(set(all_birds['source'])))"
   ]
  },
  {
   "cell_type": "markdown",
   "metadata": {},
   "source": [
    "# 2. Plot no. of species found in each state or union territory"
   ]
  },
  {
   "cell_type": "code",
   "execution_count": null,
   "metadata": {},
   "outputs": [],
   "source": [
    "all_birds_vis = all_birds.groupby(by='source').count().reset_index().sort_values(by='Unnamed: 0', ascending=True)\n",
    "\n",
    "fig_type = px.bar(all_birds_vis,  x ='Unnamed: 0', y= 'source',\n",
    "                title= 'State-wise bird count',\n",
    "                color = 'Unnamed: 0' , color_continuous_scale=['red','black'], text='Unnamed: 0')\n",
    "#Axis titles\n",
    "fig_type.update_layout(xaxis_title=\"Species count\", yaxis_title='State')\n",
    "#Remove colorbar\n",
    "fig_type.update_coloraxes(showscale=False)\n",
    "# Set the height of the figure to scale\n",
    "fig_type.update_layout(height=1000)\n",
    "fig_type.show()"
   ]
  },
  {
   "cell_type": "markdown",
   "metadata": {},
   "source": [
    "prev Plot function"
   ]
  },
  {
   "cell_type": "code",
   "execution_count": null,
   "metadata": {},
   "outputs": [],
   "source": [
    "def top_n(my_df, col, type, n):\n",
    "    \n",
    "    #my_df: this is a pandas dataframe\n",
    "    #col: \n",
    "    #type: \n",
    "    \n",
    "    \n",
    "    #from dataframe my_df, get top n most watched names for 'type' in column 'col'. 'type' is 'movie' or 'tv show'\n",
    "    \n",
    "    #Get dataframe of just type\n",
    "    my_type = my_df[my_df[col]==type]\n",
    "    \n",
    "    #Group shows by movie name, sort in descending order and convert to dataframe\n",
    "    my_type = my_type.groupby('name').sum().sort_values(by='duration', ascending= False).reset_index()\n",
    "    \n",
    "    #Keep only relevant columns\n",
    "    my_type = my_type[['name', 'duration']]\n",
    "    \n",
    "    #Get a dataframe of just the first n most watched shows\n",
    "    top_n_type = my_type.iloc[0:n,].sort_values(by='duration', ascending=True)\n",
    "    #somehow, round has to be applied again\n",
    "    top_n_type ['duration']= round(top_n_type['duration'],2)\n",
    "    \n",
    "    fig_type = px.bar(top_n_type,  x ='duration', y= 'name' ,\n",
    "                        title= 'My top '+str(n)+' '+ type.capitalize()+'s',\n",
    "                        color = 'duration' , color_continuous_scale=['red','black'], text='duration')\n",
    "    #Axis titles\n",
    "    fig_type.update_layout(xaxis_title=\"No. of hours watched\", yaxis_title=type.capitalize()+'s')\n",
    "    #Remove colorbar\n",
    "    fig_type.update_coloraxes(showscale=False)\n",
    "    # Set the height of the figure to scale\n",
    "    if n>=10: fig_type.update_layout(height=40*n)       \n",
    "    \n",
    "    \n",
    "    fig_type.show()"
   ]
  }
 ],
 "metadata": {
  "kernelspec": {
   "display_name": "Python 3",
   "language": "python",
   "name": "python3"
  },
  "language_info": {
   "codemirror_mode": {
    "name": "ipython",
    "version": 3
   },
   "file_extension": ".py",
   "mimetype": "text/x-python",
   "name": "python",
   "nbconvert_exporter": "python",
   "pygments_lexer": "ipython3",
   "version": "3.11.5"
  }
 },
 "nbformat": 4,
 "nbformat_minor": 2
}
